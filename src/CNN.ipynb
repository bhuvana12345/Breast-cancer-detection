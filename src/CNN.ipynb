{
  "nbformat": 4,
  "nbformat_minor": 0,
  "metadata": {
    "colab": {
      "provenance": []
    },
    "kernelspec": {
      "name": "python3",
      "display_name": "Python 3"
    },
    "language_info": {
      "name": "python"
    }
  },
  "cells": [
    {
      "cell_type": "code",
      "execution_count": 2,
      "metadata": {
        "id": "XyldQrDsIp-y"
      },
      "outputs": [],
      "source": [
        "import numpy as np\n",
        "import pandas as pd\n",
        "import seaborn as sns\n",
        "import matplotlib.pyplot as plt\n",
        "from sklearn.model_selection import train_test_split\n",
        "from sklearn.preprocessing import StandardScaler\n",
        "from sklearn import metrics\n"
      ]
    },
    {
      "cell_type": "code",
      "source": [
        "import tensorflow as tf\n",
        "from tensorflow import keras\n",
        "from tensorflow.keras.preprocessing.image import ImageDataGenerator\n",
        "from tensorflow.keras.optimizers import Adam\n",
        "from tensorflow.keras import Sequential\n",
        "from tensorflow.keras.layers import Flatten,Dense,Dropout,BatchNormalization,Conv1D,MaxPool1D\n"
      ],
      "metadata": {
        "id": "vVeBtM6_Kzqp"
      },
      "execution_count": 3,
      "outputs": []
    },
    {
      "cell_type": "code",
      "source": [
        "df = pd.read_csv('data.csv')\n",
        "df.head()"
      ],
      "metadata": {
        "colab": {
          "base_uri": "https://localhost:8080/",
          "height": 314
        },
        "id": "FFEQaCVhK2bL",
        "outputId": "d17cb109-38ac-44c1-e5b2-dee5bedc54c5"
      },
      "execution_count": 4,
      "outputs": [
        {
          "output_type": "execute_result",
          "data": {
            "text/plain": [
              "         id diagnosis  radius_mean  texture_mean  perimeter_mean  area_mean  \\\n",
              "0    842302         M        17.99         10.38          122.80     1001.0   \n",
              "1    842517         M        20.57         17.77          132.90     1326.0   \n",
              "2  84300903         M        19.69         21.25          130.00     1203.0   \n",
              "3  84348301         M        11.42         20.38           77.58      386.1   \n",
              "4  84358402         M        20.29         14.34          135.10     1297.0   \n",
              "\n",
              "   smoothness_mean  compactness_mean  concavity_mean  concave points_mean  \\\n",
              "0          0.11840           0.27760          0.3001              0.14710   \n",
              "1          0.08474           0.07864          0.0869              0.07017   \n",
              "2          0.10960           0.15990          0.1974              0.12790   \n",
              "3          0.14250           0.28390          0.2414              0.10520   \n",
              "4          0.10030           0.13280          0.1980              0.10430   \n",
              "\n",
              "   ...  texture_worst  perimeter_worst  area_worst  smoothness_worst  \\\n",
              "0  ...          17.33           184.60      2019.0            0.1622   \n",
              "1  ...          23.41           158.80      1956.0            0.1238   \n",
              "2  ...          25.53           152.50      1709.0            0.1444   \n",
              "3  ...          26.50            98.87       567.7            0.2098   \n",
              "4  ...          16.67           152.20      1575.0            0.1374   \n",
              "\n",
              "   compactness_worst  concavity_worst  concave points_worst  symmetry_worst  \\\n",
              "0             0.6656           0.7119                0.2654          0.4601   \n",
              "1             0.1866           0.2416                0.1860          0.2750   \n",
              "2             0.4245           0.4504                0.2430          0.3613   \n",
              "3             0.8663           0.6869                0.2575          0.6638   \n",
              "4             0.2050           0.4000                0.1625          0.2364   \n",
              "\n",
              "   fractal_dimension_worst  Unnamed: 32  \n",
              "0                  0.11890          NaN  \n",
              "1                  0.08902          NaN  \n",
              "2                  0.08758          NaN  \n",
              "3                  0.17300          NaN  \n",
              "4                  0.07678          NaN  \n",
              "\n",
              "[5 rows x 33 columns]"
            ],
            "text/html": [
              "\n",
              "  <div id=\"df-988ec7e8-5058-48f8-a6da-3ee82e685002\">\n",
              "    <div class=\"colab-df-container\">\n",
              "      <div>\n",
              "<style scoped>\n",
              "    .dataframe tbody tr th:only-of-type {\n",
              "        vertical-align: middle;\n",
              "    }\n",
              "\n",
              "    .dataframe tbody tr th {\n",
              "        vertical-align: top;\n",
              "    }\n",
              "\n",
              "    .dataframe thead th {\n",
              "        text-align: right;\n",
              "    }\n",
              "</style>\n",
              "<table border=\"1\" class=\"dataframe\">\n",
              "  <thead>\n",
              "    <tr style=\"text-align: right;\">\n",
              "      <th></th>\n",
              "      <th>id</th>\n",
              "      <th>diagnosis</th>\n",
              "      <th>radius_mean</th>\n",
              "      <th>texture_mean</th>\n",
              "      <th>perimeter_mean</th>\n",
              "      <th>area_mean</th>\n",
              "      <th>smoothness_mean</th>\n",
              "      <th>compactness_mean</th>\n",
              "      <th>concavity_mean</th>\n",
              "      <th>concave points_mean</th>\n",
              "      <th>...</th>\n",
              "      <th>texture_worst</th>\n",
              "      <th>perimeter_worst</th>\n",
              "      <th>area_worst</th>\n",
              "      <th>smoothness_worst</th>\n",
              "      <th>compactness_worst</th>\n",
              "      <th>concavity_worst</th>\n",
              "      <th>concave points_worst</th>\n",
              "      <th>symmetry_worst</th>\n",
              "      <th>fractal_dimension_worst</th>\n",
              "      <th>Unnamed: 32</th>\n",
              "    </tr>\n",
              "  </thead>\n",
              "  <tbody>\n",
              "    <tr>\n",
              "      <th>0</th>\n",
              "      <td>842302</td>\n",
              "      <td>M</td>\n",
              "      <td>17.99</td>\n",
              "      <td>10.38</td>\n",
              "      <td>122.80</td>\n",
              "      <td>1001.0</td>\n",
              "      <td>0.11840</td>\n",
              "      <td>0.27760</td>\n",
              "      <td>0.3001</td>\n",
              "      <td>0.14710</td>\n",
              "      <td>...</td>\n",
              "      <td>17.33</td>\n",
              "      <td>184.60</td>\n",
              "      <td>2019.0</td>\n",
              "      <td>0.1622</td>\n",
              "      <td>0.6656</td>\n",
              "      <td>0.7119</td>\n",
              "      <td>0.2654</td>\n",
              "      <td>0.4601</td>\n",
              "      <td>0.11890</td>\n",
              "      <td>NaN</td>\n",
              "    </tr>\n",
              "    <tr>\n",
              "      <th>1</th>\n",
              "      <td>842517</td>\n",
              "      <td>M</td>\n",
              "      <td>20.57</td>\n",
              "      <td>17.77</td>\n",
              "      <td>132.90</td>\n",
              "      <td>1326.0</td>\n",
              "      <td>0.08474</td>\n",
              "      <td>0.07864</td>\n",
              "      <td>0.0869</td>\n",
              "      <td>0.07017</td>\n",
              "      <td>...</td>\n",
              "      <td>23.41</td>\n",
              "      <td>158.80</td>\n",
              "      <td>1956.0</td>\n",
              "      <td>0.1238</td>\n",
              "      <td>0.1866</td>\n",
              "      <td>0.2416</td>\n",
              "      <td>0.1860</td>\n",
              "      <td>0.2750</td>\n",
              "      <td>0.08902</td>\n",
              "      <td>NaN</td>\n",
              "    </tr>\n",
              "    <tr>\n",
              "      <th>2</th>\n",
              "      <td>84300903</td>\n",
              "      <td>M</td>\n",
              "      <td>19.69</td>\n",
              "      <td>21.25</td>\n",
              "      <td>130.00</td>\n",
              "      <td>1203.0</td>\n",
              "      <td>0.10960</td>\n",
              "      <td>0.15990</td>\n",
              "      <td>0.1974</td>\n",
              "      <td>0.12790</td>\n",
              "      <td>...</td>\n",
              "      <td>25.53</td>\n",
              "      <td>152.50</td>\n",
              "      <td>1709.0</td>\n",
              "      <td>0.1444</td>\n",
              "      <td>0.4245</td>\n",
              "      <td>0.4504</td>\n",
              "      <td>0.2430</td>\n",
              "      <td>0.3613</td>\n",
              "      <td>0.08758</td>\n",
              "      <td>NaN</td>\n",
              "    </tr>\n",
              "    <tr>\n",
              "      <th>3</th>\n",
              "      <td>84348301</td>\n",
              "      <td>M</td>\n",
              "      <td>11.42</td>\n",
              "      <td>20.38</td>\n",
              "      <td>77.58</td>\n",
              "      <td>386.1</td>\n",
              "      <td>0.14250</td>\n",
              "      <td>0.28390</td>\n",
              "      <td>0.2414</td>\n",
              "      <td>0.10520</td>\n",
              "      <td>...</td>\n",
              "      <td>26.50</td>\n",
              "      <td>98.87</td>\n",
              "      <td>567.7</td>\n",
              "      <td>0.2098</td>\n",
              "      <td>0.8663</td>\n",
              "      <td>0.6869</td>\n",
              "      <td>0.2575</td>\n",
              "      <td>0.6638</td>\n",
              "      <td>0.17300</td>\n",
              "      <td>NaN</td>\n",
              "    </tr>\n",
              "    <tr>\n",
              "      <th>4</th>\n",
              "      <td>84358402</td>\n",
              "      <td>M</td>\n",
              "      <td>20.29</td>\n",
              "      <td>14.34</td>\n",
              "      <td>135.10</td>\n",
              "      <td>1297.0</td>\n",
              "      <td>0.10030</td>\n",
              "      <td>0.13280</td>\n",
              "      <td>0.1980</td>\n",
              "      <td>0.10430</td>\n",
              "      <td>...</td>\n",
              "      <td>16.67</td>\n",
              "      <td>152.20</td>\n",
              "      <td>1575.0</td>\n",
              "      <td>0.1374</td>\n",
              "      <td>0.2050</td>\n",
              "      <td>0.4000</td>\n",
              "      <td>0.1625</td>\n",
              "      <td>0.2364</td>\n",
              "      <td>0.07678</td>\n",
              "      <td>NaN</td>\n",
              "    </tr>\n",
              "  </tbody>\n",
              "</table>\n",
              "<p>5 rows × 33 columns</p>\n",
              "</div>\n",
              "      <button class=\"colab-df-convert\" onclick=\"convertToInteractive('df-988ec7e8-5058-48f8-a6da-3ee82e685002')\"\n",
              "              title=\"Convert this dataframe to an interactive table.\"\n",
              "              style=\"display:none;\">\n",
              "        \n",
              "  <svg xmlns=\"http://www.w3.org/2000/svg\" height=\"24px\"viewBox=\"0 0 24 24\"\n",
              "       width=\"24px\">\n",
              "    <path d=\"M0 0h24v24H0V0z\" fill=\"none\"/>\n",
              "    <path d=\"M18.56 5.44l.94 2.06.94-2.06 2.06-.94-2.06-.94-.94-2.06-.94 2.06-2.06.94zm-11 1L8.5 8.5l.94-2.06 2.06-.94-2.06-.94L8.5 2.5l-.94 2.06-2.06.94zm10 10l.94 2.06.94-2.06 2.06-.94-2.06-.94-.94-2.06-.94 2.06-2.06.94z\"/><path d=\"M17.41 7.96l-1.37-1.37c-.4-.4-.92-.59-1.43-.59-.52 0-1.04.2-1.43.59L10.3 9.45l-7.72 7.72c-.78.78-.78 2.05 0 2.83L4 21.41c.39.39.9.59 1.41.59.51 0 1.02-.2 1.41-.59l7.78-7.78 2.81-2.81c.8-.78.8-2.07 0-2.86zM5.41 20L4 18.59l7.72-7.72 1.47 1.35L5.41 20z\"/>\n",
              "  </svg>\n",
              "      </button>\n",
              "      \n",
              "  <style>\n",
              "    .colab-df-container {\n",
              "      display:flex;\n",
              "      flex-wrap:wrap;\n",
              "      gap: 12px;\n",
              "    }\n",
              "\n",
              "    .colab-df-convert {\n",
              "      background-color: #E8F0FE;\n",
              "      border: none;\n",
              "      border-radius: 50%;\n",
              "      cursor: pointer;\n",
              "      display: none;\n",
              "      fill: #1967D2;\n",
              "      height: 32px;\n",
              "      padding: 0 0 0 0;\n",
              "      width: 32px;\n",
              "    }\n",
              "\n",
              "    .colab-df-convert:hover {\n",
              "      background-color: #E2EBFA;\n",
              "      box-shadow: 0px 1px 2px rgba(60, 64, 67, 0.3), 0px 1px 3px 1px rgba(60, 64, 67, 0.15);\n",
              "      fill: #174EA6;\n",
              "    }\n",
              "\n",
              "    [theme=dark] .colab-df-convert {\n",
              "      background-color: #3B4455;\n",
              "      fill: #D2E3FC;\n",
              "    }\n",
              "\n",
              "    [theme=dark] .colab-df-convert:hover {\n",
              "      background-color: #434B5C;\n",
              "      box-shadow: 0px 1px 3px 1px rgba(0, 0, 0, 0.15);\n",
              "      filter: drop-shadow(0px 1px 2px rgba(0, 0, 0, 0.3));\n",
              "      fill: #FFFFFF;\n",
              "    }\n",
              "  </style>\n",
              "\n",
              "      <script>\n",
              "        const buttonEl =\n",
              "          document.querySelector('#df-988ec7e8-5058-48f8-a6da-3ee82e685002 button.colab-df-convert');\n",
              "        buttonEl.style.display =\n",
              "          google.colab.kernel.accessAllowed ? 'block' : 'none';\n",
              "\n",
              "        async function convertToInteractive(key) {\n",
              "          const element = document.querySelector('#df-988ec7e8-5058-48f8-a6da-3ee82e685002');\n",
              "          const dataTable =\n",
              "            await google.colab.kernel.invokeFunction('convertToInteractive',\n",
              "                                                     [key], {});\n",
              "          if (!dataTable) return;\n",
              "\n",
              "          const docLinkHtml = 'Like what you see? Visit the ' +\n",
              "            '<a target=\"_blank\" href=https://colab.research.google.com/notebooks/data_table.ipynb>data table notebook</a>'\n",
              "            + ' to learn more about interactive tables.';\n",
              "          element.innerHTML = '';\n",
              "          dataTable['output_type'] = 'display_data';\n",
              "          await google.colab.output.renderOutput(dataTable, element);\n",
              "          const docLink = document.createElement('div');\n",
              "          docLink.innerHTML = docLinkHtml;\n",
              "          element.appendChild(docLink);\n",
              "        }\n",
              "      </script>\n",
              "    </div>\n",
              "  </div>\n",
              "  "
            ]
          },
          "metadata": {},
          "execution_count": 4
        }
      ]
    },
    {
      "cell_type": "code",
      "source": [
        "from sklearn import preprocessing\n",
        "\n",
        "label_encoder = preprocessing.LabelEncoder()\n",
        " \n",
        "df['diagnosis']= label_encoder.fit_transform(df['diagnosis'])\n",
        " \n",
        "df['diagnosis'].unique()"
      ],
      "metadata": {
        "colab": {
          "base_uri": "https://localhost:8080/"
        },
        "id": "Cf5QWLVoK5eJ",
        "outputId": "0162a0c0-9003-479b-d185-e934c5c785da"
      },
      "execution_count": 5,
      "outputs": [
        {
          "output_type": "execute_result",
          "data": {
            "text/plain": [
              "array([1, 0])"
            ]
          },
          "metadata": {},
          "execution_count": 5
        }
      ]
    },
    {
      "cell_type": "code",
      "source": [
        "y=df['diagnosis']\n",
        "X = df.drop(columns=['diagnosis','id','Unnamed: 32'],axis=1)"
      ],
      "metadata": {
        "id": "Om19aZw-LHBL"
      },
      "execution_count": 6,
      "outputs": []
    },
    {
      "cell_type": "code",
      "source": [
        "print(X.shape,y.shape)"
      ],
      "metadata": {
        "colab": {
          "base_uri": "https://localhost:8080/"
        },
        "id": "sb3NFU2MLJ1T",
        "outputId": "6a7d087a-7500-4c03-c086-c7059d74fab5"
      },
      "execution_count": 7,
      "outputs": [
        {
          "output_type": "stream",
          "name": "stdout",
          "text": [
            "(569, 30) (569,)\n"
          ]
        }
      ]
    },
    {
      "cell_type": "code",
      "source": [
        "X_train,X_test,y_train,y_test = train_test_split(X,y,test_size=0.2,random_state=40)"
      ],
      "metadata": {
        "id": "FEErZmYmLNVS"
      },
      "execution_count": 8,
      "outputs": []
    },
    {
      "cell_type": "code",
      "source": [
        "scaler = StandardScaler()\n",
        "X_train = scaler.fit_transform(X_train)\n",
        "X_test = scaler.transform(X_test)"
      ],
      "metadata": {
        "id": "uBSD7FtfLQYG"
      },
      "execution_count": 9,
      "outputs": []
    },
    {
      "cell_type": "code",
      "source": [
        "print(X_train.shape)\n",
        "print(X_test.shape)"
      ],
      "metadata": {
        "colab": {
          "base_uri": "https://localhost:8080/"
        },
        "id": "zyP5u-7vLSw5",
        "outputId": "38d82034-310e-4ae3-b4cd-50841656c017"
      },
      "execution_count": 10,
      "outputs": [
        {
          "output_type": "stream",
          "name": "stdout",
          "text": [
            "(455, 30)\n",
            "(114, 30)\n"
          ]
        }
      ]
    },
    {
      "cell_type": "code",
      "source": [
        "X_train = X_train.reshape(455,30,1)\n",
        "X_test = X_test.reshape(114,30,1)"
      ],
      "metadata": {
        "id": "fEHdvVoELU8u"
      },
      "execution_count": 11,
      "outputs": []
    },
    {
      "cell_type": "code",
      "source": [
        "X_train"
      ],
      "metadata": {
        "colab": {
          "base_uri": "https://localhost:8080/"
        },
        "id": "Psl-l8DKLXal",
        "outputId": "26e15076-6155-49c8-c0df-c8cfdc597837"
      },
      "execution_count": 12,
      "outputs": [
        {
          "output_type": "execute_result",
          "data": {
            "text/plain": [
              "array([[[-1.44075296],\n",
              "        [-0.43531947],\n",
              "        [-1.36208497],\n",
              "        ...,\n",
              "        [ 0.9320124 ],\n",
              "        [ 2.09724217],\n",
              "        [ 1.88645014]],\n",
              "\n",
              "       [[ 1.97409619],\n",
              "        [ 1.73302577],\n",
              "        [ 2.09167167],\n",
              "        ...,\n",
              "        [ 2.6989469 ],\n",
              "        [ 1.89116053],\n",
              "        [ 2.49783848]],\n",
              "\n",
              "       [[-1.39998202],\n",
              "        [-1.24962228],\n",
              "        [-1.34520926],\n",
              "        ...,\n",
              "        [-0.97023893],\n",
              "        [ 0.59760192],\n",
              "        [ 0.0578942 ]],\n",
              "\n",
              "       ...,\n",
              "\n",
              "       [[ 0.04880192],\n",
              "        [-0.55500086],\n",
              "        [-0.06512547],\n",
              "        ...,\n",
              "        [-1.23903365],\n",
              "        [-0.70863864],\n",
              "        [-1.27145475]],\n",
              "\n",
              "       [[-0.03896885],\n",
              "        [ 0.10207345],\n",
              "        [-0.03137406],\n",
              "        ...,\n",
              "        [ 1.05001236],\n",
              "        [ 0.43432185],\n",
              "        [ 1.21336207]],\n",
              "\n",
              "       [[-0.54860557],\n",
              "        [ 0.31327591],\n",
              "        [-0.60350155],\n",
              "        ...,\n",
              "        [-0.61102866],\n",
              "        [-0.3345212 ],\n",
              "        [-0.84628745]]])"
            ]
          },
          "metadata": {},
          "execution_count": 12
        }
      ]
    },
    {
      "cell_type": "code",
      "source": [
        "epochs = 50\n",
        "\n",
        "model = Sequential()\n",
        "model.add(Conv1D(filters=32,kernel_size=2,activation='relu',input_shape=(30,1)))\n",
        "model.add(BatchNormalization())\n",
        "model.add(Dropout(0.2))\n",
        "\n",
        "model.add(Conv1D(filters=64,kernel_size=2,activation='relu'))\n",
        "model.add(BatchNormalization())\n",
        "model.add(Dropout(0.5))\n",
        "\n",
        "model.add(Flatten())\n",
        "model.add(Dense(64,activation='relu'))\n",
        "model.add(Dropout(0.5))\n",
        "\n",
        "model.add(Dense(1,activation='sigmoid'))"
      ],
      "metadata": {
        "id": "FEpt_b33LZqz"
      },
      "execution_count": 13,
      "outputs": []
    },
    {
      "cell_type": "code",
      "source": [
        "model.summary()"
      ],
      "metadata": {
        "colab": {
          "base_uri": "https://localhost:8080/"
        },
        "id": "4ko_i22zLc1b",
        "outputId": "7b45d04c-a919-4c3f-f42f-4b628cc2954d"
      },
      "execution_count": 14,
      "outputs": [
        {
          "output_type": "stream",
          "name": "stdout",
          "text": [
            "Model: \"sequential\"\n",
            "_________________________________________________________________\n",
            " Layer (type)                Output Shape              Param #   \n",
            "=================================================================\n",
            " conv1d (Conv1D)             (None, 29, 32)            96        \n",
            "                                                                 \n",
            " batch_normalization (BatchN  (None, 29, 32)           128       \n",
            " ormalization)                                                   \n",
            "                                                                 \n",
            " dropout (Dropout)           (None, 29, 32)            0         \n",
            "                                                                 \n",
            " conv1d_1 (Conv1D)           (None, 28, 64)            4160      \n",
            "                                                                 \n",
            " batch_normalization_1 (Batc  (None, 28, 64)           256       \n",
            " hNormalization)                                                 \n",
            "                                                                 \n",
            " dropout_1 (Dropout)         (None, 28, 64)            0         \n",
            "                                                                 \n",
            " flatten (Flatten)           (None, 1792)              0         \n",
            "                                                                 \n",
            " dense (Dense)               (None, 64)                114752    \n",
            "                                                                 \n",
            " dropout_2 (Dropout)         (None, 64)                0         \n",
            "                                                                 \n",
            " dense_1 (Dense)             (None, 1)                 65        \n",
            "                                                                 \n",
            "=================================================================\n",
            "Total params: 119,457\n",
            "Trainable params: 119,265\n",
            "Non-trainable params: 192\n",
            "_________________________________________________________________\n"
          ]
        }
      ]
    },
    {
      "cell_type": "code",
      "source": [
        "model.compile(optimizer=Adam(lr=0.00005),loss='binary_crossentropy',metrics=['accuracy'])"
      ],
      "metadata": {
        "colab": {
          "base_uri": "https://localhost:8080/"
        },
        "id": "PLd_-etGLfzc",
        "outputId": "be88f410-f6df-4f95-aad8-3480e4c2baf5"
      },
      "execution_count": 15,
      "outputs": [
        {
          "output_type": "stream",
          "name": "stderr",
          "text": [
            "/usr/local/lib/python3.7/dist-packages/keras/optimizers/optimizer_v2/adam.py:110: UserWarning: The `lr` argument is deprecated, use `learning_rate` instead.\n",
            "  super(Adam, self).__init__(name, **kwargs)\n"
          ]
        }
      ]
    },
    {
      "cell_type": "code",
      "source": [
        "history = model.fit(X_train,y_train,epochs=epochs,validation_data=(X_test,y_test))"
      ],
      "metadata": {
        "colab": {
          "base_uri": "https://localhost:8080/"
        },
        "id": "H7qh04XQLlB-",
        "outputId": "8677feef-8b9a-4fdb-c7a8-16a5bb8daf27"
      },
      "execution_count": 16,
      "outputs": [
        {
          "output_type": "stream",
          "name": "stdout",
          "text": [
            "Epoch 1/50\n",
            "15/15 [==============================] - 3s 34ms/step - loss: 1.0669 - accuracy: 0.5363 - val_loss: 0.6526 - val_accuracy: 0.7895\n",
            "Epoch 2/50\n",
            "15/15 [==============================] - 0s 14ms/step - loss: 0.7703 - accuracy: 0.6571 - val_loss: 0.6113 - val_accuracy: 0.9123\n",
            "Epoch 3/50\n",
            "15/15 [==============================] - 0s 14ms/step - loss: 0.5961 - accuracy: 0.7429 - val_loss: 0.5763 - val_accuracy: 0.9298\n",
            "Epoch 4/50\n",
            "15/15 [==============================] - 0s 14ms/step - loss: 0.4262 - accuracy: 0.8308 - val_loss: 0.5437 - val_accuracy: 0.9298\n",
            "Epoch 5/50\n",
            "15/15 [==============================] - 0s 14ms/step - loss: 0.4031 - accuracy: 0.8264 - val_loss: 0.5112 - val_accuracy: 0.9298\n",
            "Epoch 6/50\n",
            "15/15 [==============================] - 0s 15ms/step - loss: 0.3347 - accuracy: 0.8703 - val_loss: 0.4800 - val_accuracy: 0.9298\n",
            "Epoch 7/50\n",
            "15/15 [==============================] - 0s 13ms/step - loss: 0.3342 - accuracy: 0.8549 - val_loss: 0.4514 - val_accuracy: 0.9211\n",
            "Epoch 8/50\n",
            "15/15 [==============================] - 0s 14ms/step - loss: 0.2942 - accuracy: 0.8791 - val_loss: 0.4231 - val_accuracy: 0.9298\n",
            "Epoch 9/50\n",
            "15/15 [==============================] - 0s 14ms/step - loss: 0.2626 - accuracy: 0.8879 - val_loss: 0.3957 - val_accuracy: 0.9474\n",
            "Epoch 10/50\n",
            "15/15 [==============================] - 0s 15ms/step - loss: 0.2349 - accuracy: 0.9231 - val_loss: 0.3676 - val_accuracy: 0.9474\n",
            "Epoch 11/50\n",
            "15/15 [==============================] - 0s 14ms/step - loss: 0.2069 - accuracy: 0.9165 - val_loss: 0.3434 - val_accuracy: 0.9561\n",
            "Epoch 12/50\n",
            "15/15 [==============================] - 0s 13ms/step - loss: 0.2706 - accuracy: 0.8835 - val_loss: 0.3189 - val_accuracy: 0.9561\n",
            "Epoch 13/50\n",
            "15/15 [==============================] - 0s 14ms/step - loss: 0.2327 - accuracy: 0.9033 - val_loss: 0.2948 - val_accuracy: 0.9561\n",
            "Epoch 14/50\n",
            "15/15 [==============================] - 0s 16ms/step - loss: 0.2076 - accuracy: 0.9187 - val_loss: 0.2698 - val_accuracy: 0.9561\n",
            "Epoch 15/50\n",
            "15/15 [==============================] - 0s 15ms/step - loss: 0.2288 - accuracy: 0.9121 - val_loss: 0.2484 - val_accuracy: 0.9649\n",
            "Epoch 16/50\n",
            "15/15 [==============================] - 0s 13ms/step - loss: 0.1557 - accuracy: 0.9341 - val_loss: 0.2286 - val_accuracy: 0.9649\n",
            "Epoch 17/50\n",
            "15/15 [==============================] - 0s 14ms/step - loss: 0.1984 - accuracy: 0.9297 - val_loss: 0.2111 - val_accuracy: 0.9649\n",
            "Epoch 18/50\n",
            "15/15 [==============================] - 0s 14ms/step - loss: 0.1885 - accuracy: 0.9451 - val_loss: 0.1945 - val_accuracy: 0.9561\n",
            "Epoch 19/50\n",
            "15/15 [==============================] - 0s 13ms/step - loss: 0.1666 - accuracy: 0.9407 - val_loss: 0.1786 - val_accuracy: 0.9474\n",
            "Epoch 20/50\n",
            "15/15 [==============================] - 0s 14ms/step - loss: 0.1518 - accuracy: 0.9473 - val_loss: 0.1646 - val_accuracy: 0.9561\n",
            "Epoch 21/50\n",
            "15/15 [==============================] - 0s 13ms/step - loss: 0.2078 - accuracy: 0.9319 - val_loss: 0.1519 - val_accuracy: 0.9561\n",
            "Epoch 22/50\n",
            "15/15 [==============================] - 0s 14ms/step - loss: 0.1692 - accuracy: 0.9363 - val_loss: 0.1411 - val_accuracy: 0.9561\n",
            "Epoch 23/50\n",
            "15/15 [==============================] - 0s 14ms/step - loss: 0.1416 - accuracy: 0.9560 - val_loss: 0.1314 - val_accuracy: 0.9561\n",
            "Epoch 24/50\n",
            "15/15 [==============================] - 0s 15ms/step - loss: 0.1480 - accuracy: 0.9407 - val_loss: 0.1229 - val_accuracy: 0.9474\n",
            "Epoch 25/50\n",
            "15/15 [==============================] - 0s 16ms/step - loss: 0.1616 - accuracy: 0.9429 - val_loss: 0.1153 - val_accuracy: 0.9474\n",
            "Epoch 26/50\n",
            "15/15 [==============================] - 0s 14ms/step - loss: 0.1430 - accuracy: 0.9516 - val_loss: 0.1090 - val_accuracy: 0.9649\n",
            "Epoch 27/50\n",
            "15/15 [==============================] - 0s 13ms/step - loss: 0.1553 - accuracy: 0.9385 - val_loss: 0.1039 - val_accuracy: 0.9649\n",
            "Epoch 28/50\n",
            "15/15 [==============================] - 0s 13ms/step - loss: 0.1687 - accuracy: 0.9341 - val_loss: 0.0989 - val_accuracy: 0.9649\n",
            "Epoch 29/50\n",
            "15/15 [==============================] - 0s 14ms/step - loss: 0.1176 - accuracy: 0.9495 - val_loss: 0.0946 - val_accuracy: 0.9649\n",
            "Epoch 30/50\n",
            "15/15 [==============================] - 0s 14ms/step - loss: 0.1203 - accuracy: 0.9582 - val_loss: 0.0909 - val_accuracy: 0.9737\n",
            "Epoch 31/50\n",
            "15/15 [==============================] - 0s 16ms/step - loss: 0.1284 - accuracy: 0.9473 - val_loss: 0.0881 - val_accuracy: 0.9737\n",
            "Epoch 32/50\n",
            "15/15 [==============================] - 0s 14ms/step - loss: 0.1176 - accuracy: 0.9560 - val_loss: 0.0855 - val_accuracy: 0.9737\n",
            "Epoch 33/50\n",
            "15/15 [==============================] - 0s 16ms/step - loss: 0.1202 - accuracy: 0.9495 - val_loss: 0.0828 - val_accuracy: 0.9737\n",
            "Epoch 34/50\n",
            "15/15 [==============================] - 0s 15ms/step - loss: 0.1407 - accuracy: 0.9495 - val_loss: 0.0803 - val_accuracy: 0.9737\n",
            "Epoch 35/50\n",
            "15/15 [==============================] - 0s 14ms/step - loss: 0.1144 - accuracy: 0.9582 - val_loss: 0.0786 - val_accuracy: 0.9737\n",
            "Epoch 36/50\n",
            "15/15 [==============================] - 0s 14ms/step - loss: 0.1207 - accuracy: 0.9582 - val_loss: 0.0772 - val_accuracy: 0.9737\n",
            "Epoch 37/50\n",
            "15/15 [==============================] - 0s 17ms/step - loss: 0.1222 - accuracy: 0.9626 - val_loss: 0.0754 - val_accuracy: 0.9649\n",
            "Epoch 38/50\n",
            "15/15 [==============================] - 0s 16ms/step - loss: 0.1067 - accuracy: 0.9560 - val_loss: 0.0740 - val_accuracy: 0.9649\n",
            "Epoch 39/50\n",
            "15/15 [==============================] - 0s 14ms/step - loss: 0.1185 - accuracy: 0.9363 - val_loss: 0.0730 - val_accuracy: 0.9561\n",
            "Epoch 40/50\n",
            "15/15 [==============================] - 0s 15ms/step - loss: 0.1059 - accuracy: 0.9626 - val_loss: 0.0717 - val_accuracy: 0.9561\n",
            "Epoch 41/50\n",
            "15/15 [==============================] - 0s 14ms/step - loss: 0.1218 - accuracy: 0.9538 - val_loss: 0.0709 - val_accuracy: 0.9561\n",
            "Epoch 42/50\n",
            "15/15 [==============================] - 0s 15ms/step - loss: 0.0983 - accuracy: 0.9626 - val_loss: 0.0704 - val_accuracy: 0.9561\n",
            "Epoch 43/50\n",
            "15/15 [==============================] - 0s 14ms/step - loss: 0.1146 - accuracy: 0.9648 - val_loss: 0.0693 - val_accuracy: 0.9561\n",
            "Epoch 44/50\n",
            "15/15 [==============================] - 0s 13ms/step - loss: 0.1378 - accuracy: 0.9495 - val_loss: 0.0691 - val_accuracy: 0.9561\n",
            "Epoch 45/50\n",
            "15/15 [==============================] - 0s 14ms/step - loss: 0.1199 - accuracy: 0.9582 - val_loss: 0.0694 - val_accuracy: 0.9561\n",
            "Epoch 46/50\n",
            "15/15 [==============================] - 0s 13ms/step - loss: 0.1448 - accuracy: 0.9429 - val_loss: 0.0693 - val_accuracy: 0.9561\n",
            "Epoch 47/50\n",
            "15/15 [==============================] - 0s 15ms/step - loss: 0.1256 - accuracy: 0.9582 - val_loss: 0.0697 - val_accuracy: 0.9561\n",
            "Epoch 48/50\n",
            "15/15 [==============================] - 0s 14ms/step - loss: 0.1068 - accuracy: 0.9648 - val_loss: 0.0696 - val_accuracy: 0.9561\n",
            "Epoch 49/50\n",
            "15/15 [==============================] - 0s 15ms/step - loss: 0.0806 - accuracy: 0.9714 - val_loss: 0.0697 - val_accuracy: 0.9561\n",
            "Epoch 50/50\n",
            "15/15 [==============================] - 0s 14ms/step - loss: 0.0956 - accuracy: 0.9670 - val_loss: 0.0698 - val_accuracy: 0.9561\n"
          ]
        }
      ]
    },
    {
      "cell_type": "code",
      "source": [
        "def plot_learning(history,epoch):\n",
        "    epoch_range = range(1,epoch+1)\n",
        "    plt.plot(epoch_range,history.history['accuracy'])\n",
        "    plt.plot(epoch_range,history.history['val_accuracy'])\n",
        "    plt.title('Model Accuracy')\n",
        "    plt.ylabel('Accuracy')\n",
        "    plt.xlabel('Epoch')\n",
        "    plt.legend(['Train','Val'],loc='upper left')\n",
        "    plt.show()\n",
        "\n",
        "    plt.plot(epoch_range,history.history['loss'])\n",
        "    plt.plot(epoch_range,history.history['val_loss'])\n",
        "    plt.title('Model Loss')\n",
        "    plt.ylabel('Loss')\n",
        "    plt.xlabel('Epoch')\n",
        "    plt.legend(['Train','Val'],loc='upper left')\n",
        "    plt.show()"
      ],
      "metadata": {
        "id": "_aTj7kzhLnpt"
      },
      "execution_count": 17,
      "outputs": []
    },
    {
      "cell_type": "code",
      "source": [
        "plot_learning(history,epochs)"
      ],
      "metadata": {
        "colab": {
          "base_uri": "https://localhost:8080/",
          "height": 573
        },
        "id": "cLG53gZ_Lu0K",
        "outputId": "d46fbeaa-9878-4872-f96e-5eae87640a13"
      },
      "execution_count": 18,
      "outputs": [
        {
          "output_type": "display_data",
          "data": {
            "text/plain": [
              "<Figure size 432x288 with 1 Axes>"
            ],
            "image/png": "[encoded data removed]"
          },
          "metadata": {
            "needs_background": "light"
          }
        },
        {
          "output_type": "display_data",
          "data": {
            "text/plain": [
              "<Figure size 432x288 with 1 Axes>"
            ],
            "image/png": "[encoded data removed]"
          },
          "metadata": {
            "needs_background": "light"
          }
        }
      ]
    },
    {
      "cell_type": "code",
      "source": [
        "y_pred = (model.predict(X_test) > 0.5).astype(\"int32\")"
      ],
      "metadata": {
        "colab": {
          "base_uri": "https://localhost:8080/"
        },
        "id": "HlHaus3pLxU-",
        "outputId": "f8356b76-cb26-4a12-b44e-5fefd17569a3"
      },
      "execution_count": 19,
      "outputs": [
        {
          "output_type": "stream",
          "name": "stdout",
          "text": [
            "4/4 [==============================] - 0s 5ms/step\n"
          ]
        }
      ]
    },
    {
      "cell_type": "code",
      "source": [
        "y_pred"
      ],
      "metadata": {
        "colab": {
          "base_uri": "https://localhost:8080/"
        },
        "id": "jl5w_oOXL0CP",
        "outputId": "696c970d-0306-42ee-8df5-7d8ec415cbe4"
      },
      "execution_count": 20,
      "outputs": [
        {
          "output_type": "execute_result",
          "data": {
            "text/plain": [
              "array([[0],\n",
              "       [1],\n",
              "       [1],\n",
              "       [0],\n",
              "       [0],\n",
              "       [1],\n",
              "       [1],\n",
              "       [1],\n",
              "       [1],\n",
              "       [0],\n",
              "       [0],\n",
              "       [1],\n",
              "       [0],\n",
              "       [1],\n",
              "       [0],\n",
              "       [1],\n",
              "       [0],\n",
              "       [0],\n",
              "       [0],\n",
              "       [1],\n",
              "       [0],\n",
              "       [0],\n",
              "       [1],\n",
              "       [0],\n",
              "       [0],\n",
              "       [0],\n",
              "       [0],\n",
              "       [0],\n",
              "       [0],\n",
              "       [1],\n",
              "       [0],\n",
              "       [0],\n",
              "       [0],\n",
              "       [0],\n",
              "       [0],\n",
              "       [0],\n",
              "       [1],\n",
              "       [0],\n",
              "       [1],\n",
              "       [0],\n",
              "       [0],\n",
              "       [1],\n",
              "       [0],\n",
              "       [0],\n",
              "       [0],\n",
              "       [0],\n",
              "       [0],\n",
              "       [0],\n",
              "       [0],\n",
              "       [0],\n",
              "       [1],\n",
              "       [1],\n",
              "       [1],\n",
              "       [0],\n",
              "       [0],\n",
              "       [0],\n",
              "       [0],\n",
              "       [1],\n",
              "       [1],\n",
              "       [0],\n",
              "       [0],\n",
              "       [1],\n",
              "       [1],\n",
              "       [0],\n",
              "       [0],\n",
              "       [0],\n",
              "       [1],\n",
              "       [1],\n",
              "       [0],\n",
              "       [0],\n",
              "       [1],\n",
              "       [1],\n",
              "       [0],\n",
              "       [1],\n",
              "       [0],\n",
              "       [0],\n",
              "       [0],\n",
              "       [0],\n",
              "       [0],\n",
              "       [0],\n",
              "       [1],\n",
              "       [0],\n",
              "       [1],\n",
              "       [1],\n",
              "       [1],\n",
              "       [1],\n",
              "       [1],\n",
              "       [1],\n",
              "       [0],\n",
              "       [0],\n",
              "       [0],\n",
              "       [1],\n",
              "       [0],\n",
              "       [0],\n",
              "       [0],\n",
              "       [0],\n",
              "       [1],\n",
              "       [1],\n",
              "       [0],\n",
              "       [1],\n",
              "       [1],\n",
              "       [0],\n",
              "       [1],\n",
              "       [1],\n",
              "       [0],\n",
              "       [0],\n",
              "       [0],\n",
              "       [1],\n",
              "       [0],\n",
              "       [0],\n",
              "       [1],\n",
              "       [0],\n",
              "       [0],\n",
              "       [1]], dtype=int32)"
            ]
          },
          "metadata": {},
          "execution_count": 20
        }
      ]
    },
    {
      "cell_type": "code",
      "source": [
        "from sklearn.metrics import accuracy_score,confusion_matrix\n",
        "accuracy_score(y_test,y_pred)"
      ],
      "metadata": {
        "colab": {
          "base_uri": "https://localhost:8080/"
        },
        "id": "aTFkP-NbL2kk",
        "outputId": "fd41e4de-0f6c-4b34-faf9-a76499dcdca7"
      },
      "execution_count": 21,
      "outputs": [
        {
          "output_type": "execute_result",
          "data": {
            "text/plain": [
              "0.956140350877193"
            ]
          },
          "metadata": {},
          "execution_count": 21
        }
      ]
    },
    {
      "cell_type": "code",
      "source": [
        "import seaborn as sns\n",
        "sns.set_style(\"white\")\n",
        "cm=confusion_matrix(y_test,y_pred)\n",
        "sns.heatmap(cm, annot=True)"
      ],
      "metadata": {
        "colab": {
          "base_uri": "https://localhost:8080/",
          "height": 282
        },
        "id": "dA6_QXQbL6J4",
        "outputId": "fddfc92b-687f-49a9-971b-0215172a426e"
      },
      "execution_count": 23,
      "outputs": [
        {
          "output_type": "execute_result",
          "data": {
            "text/plain": [
              "<matplotlib.axes._subplots.AxesSubplot at 0x7f307d315c50>"
            ]
          },
          "metadata": {},
          "execution_count": 23
        },
        {
          "output_type": "display_data",
          "data": {
            "text/plain": [
              "<Figure size 432x288 with 2 Axes>"
            ],
            "image/png": "[encoded data removed]"
          },
          "metadata": {}
        }
      ]
    },
    {
      "cell_type": "code",
      "source": [
        "TN = cm[0,0]\n",
        "FP = cm[0,1]\n",
        "FN = cm[1,0]\n",
        "TP = cm[1,1]\n",
        "FPFN = FP+FN\n",
        "TPTN = TP+TN\n",
        "Accuracy = 1/(1+(FPFN/TPTN))\n",
        "print(\"Our_Accuracy_Score:\",Accuracy)\n",
        "Precision = 1/(1+(FP/TP))\n",
        "print(\"Our_Precision_Score:\",Precision)\n",
        "Sensitivity = 1/(1+(FN/TP))\n",
        "print(\"Our_Sensitivity_Score:\",Sensitivity)\n",
        "Specificity = 1/(1+(FP/TN))\n",
        "print(\"Our_Specificity_Score:\",Specificity)"
      ],
      "metadata": {
        "colab": {
          "base_uri": "https://localhost:8080/"
        },
        "id": "Kwnw0FxpL9Ns",
        "outputId": "f57245e6-15a7-410a-ae59-51bb2161cd7c"
      },
      "execution_count": 24,
      "outputs": [
        {
          "output_type": "stream",
          "name": "stdout",
          "text": [
            "Our_Accuracy_Score: 0.9561403508771931\n",
            "Our_Precision_Score: 0.9318181818181818\n",
            "Our_Sensitivity_Score: 0.9534883720930232\n",
            "Our_Specificity_Score: 0.9577464788732394\n"
          ]
        }
      ]
    },
    {
      "cell_type": "code",
      "source": [],
      "metadata": {
        "id": "RxY9bi50MRme"
      },
      "execution_count": 24,
      "outputs": []
    }
  ]
}